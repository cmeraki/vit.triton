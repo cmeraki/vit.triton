{
 "cells": [
  {
   "cell_type": "code",
   "execution_count": null,
   "id": "c57b6483-aa0f-4c67-bd53-e411475bc147",
   "metadata": {},
   "outputs": [],
   "source": [
    "import torch\n",
    "from transformers import ViTModel\n",
    "\n",
    "from vit.vit import VIT, SelfAttention"
   ]
  },
  {
   "cell_type": "code",
   "execution_count": null,
   "id": "212553c2-257d-4cf5-b95f-3fee495c5b41",
   "metadata": {},
   "outputs": [],
   "source": [
    "pretrained_model = ViTModel.from_pretrained(\"google/vit-base-patch16-224\")\n",
    "pretrained_state_dict = pretrained_model.state_dict()\n",
    "\n",
    "custom_vit_model = VIT(\n",
    "    height=224, \n",
    "    width=224, \n",
    "    channels=3, \n",
    "    patch_size=16, \n",
    "    hidden_dim=768, \n",
    "    num_heads=12, \n",
    "    num_layers=12\n",
    ")"
   ]
  },
  {
   "cell_type": "code",
   "execution_count": null,
   "id": "1bcdf603-24d3-45cf-b3b6-c942185dcffa",
   "metadata": {
    "scrolled": true
   },
   "outputs": [],
   "source": [
    "for k, v in pretrained_model.state_dict().items():\n",
    "    print(f'{k}\\t{pretrained_model.state_dict()[k].shape}')"
   ]
  },
  {
   "cell_type": "code",
   "execution_count": null,
   "id": "eefe3ba1-be61-4dfd-9598-8c6dd00a0884",
   "metadata": {
    "scrolled": true
   },
   "outputs": [],
   "source": [
    "for k, v in custom_vit_model.state_dict().items():\n",
    "    print(f'{k}\\t{custom_vit_model.state_dict()[k].shape}')"
   ]
  },
  {
   "cell_type": "markdown",
   "id": "19f6a48b-0514-4864-8141-606e2a4fd392",
   "metadata": {},
   "source": [
    "useful ref: https://pytorch.org/tutorials/beginner/saving_loading_models.html#saving-loading-model-across-devices"
   ]
  },
  {
   "cell_type": "code",
   "execution_count": null,
   "id": "34aa5518-656e-49ff-aee7-4bb8a4056f3c",
   "metadata": {},
   "outputs": [],
   "source": [
    "# Prepare a mapping dictionary from pre-trained model keys to custom model keys\n",
    "# Here we need to match the keys manually based on your understanding of both models\n",
    "key_mapping = {\n",
    "    'embeddings.patch_embeddings.projection.weight': 'projection',\n",
    "    'embeddings.position_embeddings': 'positional_embedding',\n",
    "    # Add more mappings as required\n",
    "}\n",
    "\n",
    "# Initialize a new state dict for the custom model\n",
    "custom_state_dict = custom_vit_model.state_dict()\n",
    "\n",
    "# Update the custom state dict with weights from the pre-trained model\n",
    "for key, value in pretrained_model.state_dict().items():\n",
    "    mapped_key = key_mapping.get(key)\n",
    "    if mapped_key and mapped_key in custom_state_dict:\n",
    "        print(f\"Transferring weight for {mapped_key}\")\n",
    "        custom_state_dict[mapped_key] = value.clone()\n",
    "\n",
    "custom_vit_model.load_state_dict(custom_state_dict, strict=False)\n",
    "\n",
    "# Move the model to the GPU\n",
    "custom_vit_model.to('cuda:0')\n"
   ]
  }
 ],
 "metadata": {
  "kernelspec": {
   "display_name": "Python 3 (ipykernel)",
   "language": "python",
   "name": "python3"
  },
  "language_info": {
   "codemirror_mode": {
    "name": "ipython",
    "version": 3
   },
   "file_extension": ".py",
   "mimetype": "text/x-python",
   "name": "python",
   "nbconvert_exporter": "python",
   "pygments_lexer": "ipython3",
   "version": "3.11.6"
  }
 },
 "nbformat": 4,
 "nbformat_minor": 5
}
