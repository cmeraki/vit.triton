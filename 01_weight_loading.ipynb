{
 "cells": [
  {
   "cell_type": "code",
   "execution_count": null,
   "id": "c57b6483-aa0f-4c67-bd53-e411475bc147",
   "metadata": {},
   "outputs": [],
   "source": [
    "import torch\n",
    "from transformers import ViTModel\n",
    "\n",
    "from vit.vit import VIT, SelfAttention"
   ]
  },
  {
   "cell_type": "code",
   "execution_count": null,
   "id": "212553c2-257d-4cf5-b95f-3fee495c5b41",
   "metadata": {
    "scrolled": true
   },
   "outputs": [],
   "source": [
    "device = 'cuda:0'\n",
    "dtype = torch.float16\n",
    "\n",
    "pretrained_model = ViTModel.from_pretrained(\"google/vit-base-patch16-224\")\n",
    "pretrained_state_dict = pretrained_model.state_dict()\n",
    "\n",
    "custom_vit_model = VIT(\n",
    "    height=224, \n",
    "    width=224, \n",
    "    channels=3, \n",
    "    patch_size=16, \n",
    "    hidden_dim=768, \n",
    "    num_heads=12, \n",
    "    num_layers=12\n",
    ")\n",
    "\n",
    "pretrained_model.to(device, dtype)\n",
    "custom_vit_model.to(device, dtype)"
   ]
  },
  {
   "cell_type": "code",
   "execution_count": null,
   "id": "a01b687e-19b2-4253-9b71-faab24846c60",
   "metadata": {
    "scrolled": true
   },
   "outputs": [],
   "source": [
    "pretrained_model"
   ]
  },
  {
   "cell_type": "code",
   "execution_count": null,
   "id": "1bcdf603-24d3-45cf-b3b6-c942185dcffa",
   "metadata": {
    "scrolled": true
   },
   "outputs": [],
   "source": [
    "for k, v in pretrained_model.state_dict().items():\n",
    "    print(f'{k}\\t{pretrained_model.state_dict()[k].shape}')"
   ]
  },
  {
   "cell_type": "code",
   "execution_count": null,
   "id": "eefe3ba1-be61-4dfd-9598-8c6dd00a0884",
   "metadata": {
    "scrolled": true
   },
   "outputs": [],
   "source": [
    "for k, v in custom_vit_model.state_dict().items():\n",
    "    if 'query' in k or 'key' in k or 'value' in k:\n",
    "        continue\n",
    "    print(f'{k}\\t{custom_vit_model.state_dict()[k].shape}')"
   ]
  },
  {
   "cell_type": "markdown",
   "id": "19f6a48b-0514-4864-8141-606e2a4fd392",
   "metadata": {},
   "source": [
    "- useful ref: https://pytorch.org/tutorials/beginner/saving_loading_models.html#saving-loading-model-across-devices\n",
    "- most of the layers are named correctly, but q, k, v needs to be split according to the heads and loaded correctly"
   ]
  },
  {
   "cell_type": "code",
   "execution_count": null,
   "id": "ad1a48de-88ae-4e1f-8d01-616c583ceb75",
   "metadata": {},
   "outputs": [],
   "source": [
    "custom_state_dict = custom_vit_model.state_dict()\n",
    "pretrained_state_dict = pretrained_model.state_dict()"
   ]
  },
  {
   "cell_type": "code",
   "execution_count": null,
   "id": "2224b019-368d-4cba-8b6f-65abbd510878",
   "metadata": {},
   "outputs": [],
   "source": [
    "num_layers = 12\n",
    "attention_layers = [f'encoder.layer.{k}.attention.attention' for k in range(num_layers)]\n",
    "\n",
    "# Mapping dictionary from source model to destination model\n",
    "weight_mapping = {\n",
    "    'embeddings.position_embeddings': 'embeddings.position_embeddings',\n",
    "    # 'embeddings.patch_embeddings.projection.weight': 'embeddings.projection.weight',\n",
    "    # 'embeddings.patch_embeddings.projection.bias': 'embeddings.projection.bias'\n",
    "}\n",
    "\n",
    "# Adding mappings for each encoder layer's output and intermediate dense layers\n",
    "for i in range(12):\n",
    "    weight_mapping.update({\n",
    "        f'encoder.layer.{i}.output.dense.weight': f'encoder.layer.{i}.output.weight',\n",
    "        f'encoder.layer.{i}.output.dense.bias': f'encoder.layer.{i}.output.bias',\n",
    "        f'encoder.layer.{i}.intermediate.dense.weight': f'encoder.layer.{i}.intermediate.weight',\n",
    "        f'encoder.layer.{i}.intermediate.dense.bias': f'encoder.layer.{i}.intermediate.bias',\n",
    "        f'encoder.layer.{i}.attention.output.dense.weight': f'encoder.layer.{i}.attention.output.weight',\n",
    "        f'encoder.layer.{i}.attention.output.dense.bias': f'encoder.layer.{i}.attention.output.bias',\n",
    "        f'encoder.layer.{i}.layernorm_before.weight': f'encoder.layer.{i}.layernorm_before.weight',\n",
    "        f'encoder.layer.{i}.layernorm_before.bias': f'encoder.layer.{i}.layernorm_before.bias',\n",
    "        f'encoder.layer.{i}.layernorm_after.weight': f'encoder.layer.{i}.layernorm_after.weight',\n",
    "        f'encoder.layer.{i}.layernorm_after.bias': f'encoder.layer.{i}.layernorm_after.bias'\n",
    "    })"
   ]
  },
  {
   "cell_type": "code",
   "execution_count": null,
   "id": "dcb4c163-7eec-4d67-9e68-c346780964ec",
   "metadata": {},
   "outputs": [],
   "source": [
    "def map_attn_layers(source_layer_num, source_proj, source_type, source_tensor, dest_state_dict):\n",
    "\n",
    "    for layer, weight in dest_state_dict.items():\n",
    "        if len(layer.split('.')) <= 2:\n",
    "            continue\n",
    "\n",
    "        layer_num, proj, type = layer.split('.')[2], layer.split('.')[-2], layer.split('.')[-1]\n",
    "        if (layer_num == source_layer_num) and (proj == source_proj) and (type == source_type):\n",
    "            num_head = int(layer.split('.')[5])\n",
    "\n",
    "            if type == 'weight':\n",
    "                src = source_tensor[:, num_head*64:(num_head+1)*64]\n",
    "            else:\n",
    "                src = source_tensor[num_head*64:(num_head+1)*64]\n",
    "\n",
    "            print(f'Mapping to destination\\tLayer: {layer}\\tSource tensor shape: {src.shape}\\tDestination tensor shape{weight.shape}')\n",
    "\n",
    "            dest_state_dict[layer] = src.clone()"
   ]
  },
  {
   "cell_type": "code",
   "execution_count": null,
   "id": "0e54a558-3760-4e25-977c-92af0c11bae8",
   "metadata": {
    "scrolled": true
   },
   "outputs": [],
   "source": [
    "for layer_name, weight in pretrained_state_dict.items():\n",
    "    for attn_layer in attention_layers:\n",
    "        if attn_layer in layer_name:\n",
    "            layer_num, proj, type = layer_name.split('.')[2], layer_name.split('.')[-2], layer_name.split('.')[-1]\n",
    "            print(f'Mapping from source\\tLayer number: {layer_num} \\tProjection: {proj} \\tType: {type}')\n",
    "            map_attn_layers(layer_num, proj, type, weight, custom_state_dict)\n",
    "            print('\\n')"
   ]
  },
  {
   "cell_type": "code",
   "execution_count": null,
   "id": "34aa5518-656e-49ff-aee7-4bb8a4056f3c",
   "metadata": {
    "scrolled": true
   },
   "outputs": [],
   "source": [
    "for key, value in pretrained_state_dict.items():\n",
    "    mapped_key = weight_mapping.get(key)\n",
    "    if mapped_key and mapped_key in custom_state_dict:\n",
    "        # print(f\"Transferring weight from {key} to {mapped_key}\")\n",
    "\n",
    "        if 'attention' not in mapped_key and ('output' in mapped_key or 'intermediate' in mapped_key):\n",
    "            # print(f\"Tranferring transpose weights\")\n",
    "            custom_state_dict[mapped_key] = value.t().clone()\n",
    "            continue\n",
    "        \n",
    "        custom_state_dict[mapped_key] = value.clone()\n",
    "        continue\n",
    "\n",
    "    else:\n",
    "        print(f'Not transferring weight for: {key}')"
   ]
  },
  {
   "cell_type": "code",
   "execution_count": null,
   "id": "42dec2f5-fd6c-4504-bb38-8d9deee5c942",
   "metadata": {
    "scrolled": true
   },
   "outputs": [],
   "source": [
    "custom_vit_model.load_state_dict(custom_state_dict, strict=False)"
   ]
  },
  {
   "cell_type": "code",
   "execution_count": null,
   "id": "fcbfca44-ebd0-4985-be4e-5ae735a37014",
   "metadata": {},
   "outputs": [],
   "source": [
    "custom_state_dict = custom_vit_model.state_dict()\n",
    "for k, v in custom_state_dict.items():\n",
    "    if torch.all(v == 0):\n",
    "        print(k)"
   ]
  },
  {
   "cell_type": "code",
   "execution_count": null,
   "id": "0d802de0-fbbc-4a2e-9cbe-b92bf349b9b8",
   "metadata": {},
   "outputs": [],
   "source": []
  }
 ],
 "metadata": {
  "kernelspec": {
   "display_name": "Python 3 (ipykernel)",
   "language": "python",
   "name": "python3"
  },
  "language_info": {
   "codemirror_mode": {
    "name": "ipython",
    "version": 3
   },
   "file_extension": ".py",
   "mimetype": "text/x-python",
   "name": "python",
   "nbconvert_exporter": "python",
   "pygments_lexer": "ipython3",
   "version": "3.11.6"
  }
 },
 "nbformat": 4,
 "nbformat_minor": 5
}
