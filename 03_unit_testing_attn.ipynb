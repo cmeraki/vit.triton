{
 "cells": [
  {
   "cell_type": "markdown",
   "metadata": {},
   "source": [
    "## Unit testing Self attention and multi head attention modules\n",
    "\n",
    "Torch is considered as ground truth"
   ]
  },
  {
   "cell_type": "code",
   "execution_count": null,
   "metadata": {},
   "outputs": [],
   "source": [
    "import torch\n",
    "from torch import nn\n",
    "import torch.nn.functional as F\n",
    "\n",
    "from vit.vit import SelfAttention"
   ]
  },
  {
   "cell_type": "code",
   "execution_count": null,
   "metadata": {},
   "outputs": [],
   "source": [
    "batch_size = 2\n",
    "seq_len = 100\n",
    "input_dim = 128\n",
    "embed_dim = 128\n",
    "device = 'cuda:0'\n",
    "dtype = torch.float32"
   ]
  },
  {
   "cell_type": "code",
   "execution_count": null,
   "metadata": {},
   "outputs": [],
   "source": [
    "# Projection matrices\n",
    "\n",
    "q_proj = nn.Parameter(torch.randint(1, 5, (input_dim, embed_dim), device=device, dtype=dtype))\n",
    "k_proj = nn.Parameter(torch.randint(1, 5, (input_dim, embed_dim), device=device, dtype=dtype))\n",
    "v_proj = nn.Parameter(torch.randint(1, 5, (input_dim, embed_dim), device=device, dtype=dtype))\n",
    "\n",
    "qb_proj = nn.Parameter(torch.randint(1, 3, (1, embed_dim), device=device, dtype=dtype)).squeeze(0).contiguous() # Bias\n",
    "kb_proj = nn.Parameter(torch.randint(1, 3, (1, embed_dim), device=device, dtype=dtype)).squeeze(0).contiguous()\n",
    "vb_proj = nn.Parameter(torch.randint(1, 3, (1, embed_dim), device=device, dtype=dtype)).squeeze(0).contiguous()\n",
    "\n",
    "input = torch.randint(1, 10, (batch_size, seq_len, input_dim), device=device, dtype=dtype)\n",
    "input.shape"
   ]
  },
  {
   "cell_type": "markdown",
   "metadata": {},
   "source": [
    "### Self attention"
   ]
  },
  {
   "cell_type": "code",
   "execution_count": null,
   "metadata": {},
   "outputs": [],
   "source": [
    "# Preparing Q, K, V for torch\n",
    "\n",
    "q1 = torch.matmul(input, q_proj) + qb_proj\n",
    "k1 = torch.matmul(input, k_proj) + kb_proj\n",
    "v1 = torch.matmul(input, v_proj) + vb_proj\n",
    "\n",
    "print(q1.shape, k1.shape, v1.shape)"
   ]
  },
  {
   "cell_type": "code",
   "execution_count": null,
   "metadata": {},
   "outputs": [],
   "source": [
    "# Preparing Q, K, V for our custom implementation\n",
    "\n",
    "sa = SelfAttention(d_in=input_dim, d_out=embed_dim, num_heads=1)\n",
    "sa.to(device=device, dtype=dtype)\n",
    "\n",
    "temp = torch.cat([q_proj, k_proj, v_proj], axis=-1)\n",
    "temp = temp.contiguous()\n",
    "print(temp.shape)\n",
    "with torch.no_grad():\n",
    "    sa.qkv.weight.copy_(temp.clone())\n",
    "\n",
    "temp = torch.cat([qb_proj, kb_proj, vb_proj], axis=-1)\n",
    "temp = temp.contiguous()\n",
    "print(temp.shape)\n",
    "with torch.no_grad():\n",
    "    sa.qkv.bias.copy_(temp.clone())"
   ]
  },
  {
   "cell_type": "code",
   "execution_count": null,
   "metadata": {},
   "outputs": [],
   "source": [
    "o1 = F.scaled_dot_product_attention(q1, k1, v1)\n",
    "o2 = sa(input)\n",
    "\n",
    "o1.shape, o2.shape"
   ]
  },
  {
   "cell_type": "code",
   "execution_count": null,
   "metadata": {
    "scrolled": true
   },
   "outputs": [],
   "source": [
    "import math\n",
    "i = torch.matmul(q1, k1.transpose(1, 2))/math.sqrt(128)\n",
    "o = torch.matmul(torch.softmax(i, axis=-1), v1)\n",
    "\n",
    "torch.max(torch.abs(o1 - o)), torch.max(torch.abs(o2 - o))"
   ]
  },
  {
   "cell_type": "code",
   "execution_count": null,
   "metadata": {},
   "outputs": [],
   "source": [
    "# Measuring diff b/w the two\n",
    "diff = torch.abs(o1 - o2)\n",
    "max_diff_index = torch.argmax(diff)\n",
    "max_diff_index_multi = (max_diff_index // (100 * 128), (max_diff_index % (100 * 128)) // 128, max_diff_index % 128)\n",
    "\n",
    "print(f'Diff b/w both the implementations: {torch.max(diff)}')"
   ]
  },
  {
   "cell_type": "markdown",
   "metadata": {},
   "source": [
    "### Multi head attention"
   ]
  },
  {
   "cell_type": "code",
   "execution_count": null,
   "metadata": {},
   "outputs": [],
   "source": [
    "from vit.vit import MultiHeadAttention"
   ]
  },
  {
   "cell_type": "code",
   "execution_count": null,
   "metadata": {},
   "outputs": [],
   "source": [
    "mha_torch = nn.MultiheadAttention(\n",
    "    embed_dim=128,\n",
    "    num_heads=4,\n",
    "    bias=False,\n",
    "    device=device,\n",
    "    dtype=dtype,\n",
    "    batch_first=True\n",
    ")\n",
    "\n",
    "mha_triton = MultiHeadAttention(\n",
    "    num_heads=4, d_in=128, d_out=32\n",
    ")\n",
    "mha_triton.to(device, dtype)"
   ]
  },
  {
   "cell_type": "code",
   "execution_count": null,
   "metadata": {},
   "outputs": [],
   "source": [
    "o_proj = nn.Parameter(torch.randint(3, 5, (input_dim, embed_dim), device=device, dtype=dtype))\n",
    "ob_proj = nn.Parameter(torch.zeros((1, embed_dim), device=device, dtype=dtype)).squeeze(0).contiguous()"
   ]
  },
  {
   "cell_type": "code",
   "execution_count": null,
   "metadata": {},
   "outputs": [],
   "source": [
    "temp = torch.cat([q_proj, k_proj, v_proj], axis=-1)\n",
    "temp = temp.contiguous()\n",
    "print(temp.shape)\n",
    "with torch.no_grad():\n",
    "    mha_triton.attention.qkv.weight.copy_(temp.clone())\n",
    "\n",
    "temp = torch.cat([qb_proj, kb_proj, vb_proj], axis=-1)\n",
    "temp = temp.contiguous()\n",
    "print(temp.shape)\n",
    "with torch.no_grad():\n",
    "    mha_triton.attention.qkv.bias.copy_(temp.clone())\n",
    "\n",
    "with torch.no_grad():\n",
    "    mha_torch.out_proj.weight.copy_(o_proj.clone())\n",
    "    # mha_torch.out_proj.bias.copy_(ob_proj.clone())\n",
    "\n",
    "    temp = o_proj.t().contiguous()\n",
    "    mha_triton.output.weight.copy_(temp.clone())\n",
    "    # mha_triton.output.bias.copy_(ob_proj.clone())"
   ]
  },
  {
   "cell_type": "code",
   "execution_count": null,
   "metadata": {},
   "outputs": [],
   "source": [
    "o1, _ = mha_torch(q1, k1, v1)\n",
    "o2 = mha_triton(input)"
   ]
  },
  {
   "cell_type": "code",
   "execution_count": null,
   "metadata": {},
   "outputs": [],
   "source": [
    "# Measuring diff b/w the two\n",
    "diff = torch.abs(o1 - o2)\n",
    "max_diff_index = torch.argmax(diff)\n",
    "max_diff_index_multi = (max_diff_index // (100 * 128), (max_diff_index % (100 * 128)) // 128, max_diff_index % 128)\n",
    "\n",
    "print(torch.max(diff))"
   ]
  },
  {
   "cell_type": "code",
   "execution_count": null,
   "metadata": {
    "scrolled": true
   },
   "outputs": [],
   "source": [
    "o1, o2"
   ]
  },
  {
   "cell_type": "code",
   "execution_count": null,
   "metadata": {},
   "outputs": [],
   "source": []
  }
 ],
 "metadata": {
  "kernelspec": {
   "display_name": "Python 3 (ipykernel)",
   "language": "python",
   "name": "python3"
  },
  "language_info": {
   "codemirror_mode": {
    "name": "ipython",
    "version": 3
   },
   "file_extension": ".py",
   "mimetype": "text/x-python",
   "name": "python",
   "nbconvert_exporter": "python",
   "pygments_lexer": "ipython3",
   "version": "3.11.6"
  }
 },
 "nbformat": 4,
 "nbformat_minor": 4
}
