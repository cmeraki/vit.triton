{
 "cells": [
  {
   "cell_type": "code",
   "execution_count": null,
   "metadata": {},
   "outputs": [],
   "source": [
    "import torch\n",
    "from torch import nn\n",
    "from vit.vit import SelfAttention"
   ]
  },
  {
   "cell_type": "code",
   "execution_count": null,
   "metadata": {},
   "outputs": [],
   "source": [
    "input_dim = 128\n",
    "embed_dim = 64\n",
    "device = 'cuda:0'\n",
    "dtype = torch.float32"
   ]
  },
  {
   "cell_type": "code",
   "execution_count": null,
   "metadata": {},
   "outputs": [],
   "source": [
    "q = nn.Parameter(torch.randn(input_dim, embed_dim, device=device, dtype=dtype))\n",
    "qb = nn.Parameter(torch.randn(embed_dim, device=device, dtype=dtype))\n",
    "k = nn.Parameter(torch.randn(input_dim, embed_dim, device=device, dtype=dtype))\n",
    "kb = nn.Parameter(torch.randn(embed_dim, device=device, dtype=dtype))\n",
    "v = nn.Parameter(torch.randn(input_dim, embed_dim, device=device, dtype=dtype))\n",
    "vb = nn.Parameter(torch.randn(embed_dim, device=device, dtype=dtype))\n",
    "\n",
    "input = torch.randn((1, 100, input_dim), device=device, dtype=dtype)\n",
    "input.shape"
   ]
  },
  {
   "cell_type": "code",
   "execution_count": null,
   "metadata": {},
   "outputs": [],
   "source": [
    "sa = SelfAttention(d_in=128, d_out=64)\n",
    "sa.to(device=device, dtype=dtype)\n",
    "mha = nn.MultiheadAttention(\n",
    "    embed_dim=128,\n",
    "    num_heads=1,\n",
    "    device=device,\n",
    "    dtype=dtype,\n",
    "    batch_first=True\n",
    ")"
   ]
  },
  {
   "cell_type": "code",
   "execution_count": null,
   "metadata": {},
   "outputs": [],
   "source": [
    "temp = torch.cat([q, k, v], axis=-1)\n",
    "temp = temp.contiguous()\n",
    "with torch.no_grad():\n",
    "    sa.qkv.weight.copy_(temp.clone())\n",
    "\n",
    "temp = torch.cat([qb, kb, vb], axis=-1)\n",
    "temp = temp.contiguous()\n",
    "with torch.no_grad():\n",
    "    sa.qkv.bias.copy_(temp.clone())"
   ]
  },
  {
   "cell_type": "code",
   "execution_count": null,
   "metadata": {},
   "outputs": [],
   "source": [
    "output = sa(input)"
   ]
  },
  {
   "cell_type": "code",
   "execution_count": null,
   "metadata": {},
   "outputs": [],
   "source": [
    "output.shape"
   ]
  },
  {
   "cell_type": "code",
   "execution_count": null,
   "metadata": {},
   "outputs": [],
   "source": [
    "qi = torch.matmul(input, q) + qb\n",
    "ki = torch.matmul(input, k) + kb\n",
    "vi = torch.matmul(input, v) + vb"
   ]
  },
  {
   "cell_type": "code",
   "execution_count": null,
   "metadata": {},
   "outputs": [],
   "source": [
    "mha(qi, ki, vi)"
   ]
  },
  {
   "cell_type": "code",
   "execution_count": null,
   "metadata": {},
   "outputs": [],
   "source": []
  }
 ],
 "metadata": {
  "kernelspec": {
   "display_name": "py311",
   "language": "python",
   "name": "python3"
  },
  "language_info": {
   "codemirror_mode": {
    "name": "ipython",
    "version": 3
   },
   "file_extension": ".py",
   "mimetype": "text/x-python",
   "name": "python",
   "nbconvert_exporter": "python",
   "pygments_lexer": "ipython3",
   "version": "3.11.6"
  }
 },
 "nbformat": 4,
 "nbformat_minor": 2
}
